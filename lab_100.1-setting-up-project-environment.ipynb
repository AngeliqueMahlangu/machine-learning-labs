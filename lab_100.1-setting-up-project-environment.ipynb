{
 "cells": [
  {
   "cell_type": "markdown",
   "id": "40d30c2a",
   "metadata": {},
   "source": [
    "# Setting Up Your Environment\n",
    "\n",
    "__Key Takeaways:__\n",
    "\n",
    "By the end of this module, students will have a fully functional development environment with Python, Jupyter Notebook, and Git set up on their local machines. They will also understand the basics of version control and be able to collaborate on projects using GitHub."
   ]
  },
  {
   "cell_type": "code",
   "execution_count": null,
   "id": "75d80852",
   "metadata": {},
   "outputs": [],
   "source": []
  },
  {
   "cell_type": "markdown",
   "id": "826fa290",
   "metadata": {},
   "source": [
    "## Installation of Python and Jupyter Notebook\n",
    "\n",
    "__Python Installation:__ \n",
    "\n",
    "Guide students through the process of downloading and installing Python, preferably using Anaconda distribution for easier management of packages.\n",
    "\n",
    "__Jupyter Notebook Installation:__\n",
    "\n",
    "Explain how to install Jupyter Notebook using pip or conda, and how to launch it from the command line.\n"
   ]
  },
  {
   "cell_type": "markdown",
   "id": "600066bd",
   "metadata": {},
   "source": [
    "## Setting up a Local Repository\n",
    "\n",
    "__Introduction to Version Control:__\n",
    "\n",
    "Provide an overview of version control systems and their importance in collaborative development.\n",
    "\n",
    "__Creating a Local Repository:__\n",
    "\n",
    "Demonstrate how to initialize a Git repository in a local directory using the `git init` command.\n",
    "\n",
    "__Basic Git Commands:__\n",
    "\n",
    "Introduce fundamental Git commands such as `git add`, `git commit`, and `git status` to track changes in the repository.\n"
   ]
  },
  {
   "cell_type": "markdown",
   "id": "33d46f08",
   "metadata": {},
   "source": [
    "## Linking the Local Repository to GitHub\n",
    "\n",
    "__Creating a GitHub Account:__\n",
    "\n",
    "Instruct students on how to create a GitHub account if they don't have one already.\n",
    "\n",
    "__Generating SSH Keys:__\n",
    "\n",
    "Guide students through the process of generating SSH keys and adding them to their GitHub account for secure communication.\n",
    "\n",
    "__Connecting Local Repository to GitHub:__\n",
    "\n",
    "Show how to add a remote repository URL using `git remote add origin` and push local changes to GitHub with `git push`.\n"
   ]
  },
  {
   "cell_type": "markdown",
   "id": "2738da9c",
   "metadata": {},
   "source": [
    "## Basics of Version Control with Git\n",
    "\n",
    "__Committing Changes:__\n",
    "\n",
    "Explain the concept of commits and how to commit changes using `git commit -m \"commit message\"`.\n",
    "\n",
    "__Branching and Merging:__\n",
    "\n",
    "Introduce branching with `git branch` and merging branches using `git merge`.\n",
    "\n",
    "__Handling Merge Conflicts:__\n",
    "\n",
    "Discuss how to resolve merge conflicts that may arise during collaboration.\n",
    "\n",
    "__Best Practices:__\n",
    "\n",
    "Emphasize good version control practices such as committing frequently, writing descriptive commit messages, and using meaningful branch names."
   ]
  },
  {
   "cell_type": "code",
   "execution_count": null,
   "id": "65ccafde",
   "metadata": {},
   "outputs": [],
   "source": []
  },
  {
   "cell_type": "code",
   "execution_count": null,
   "id": "7aaebe4b",
   "metadata": {},
   "outputs": [],
   "source": []
  }
 ],
 "metadata": {
  "kernelspec": {
   "display_name": "Python 3",
   "language": "python",
   "name": "python3"
  },
  "language_info": {
   "codemirror_mode": {
    "name": "ipython",
    "version": 3
   },
   "file_extension": ".py",
   "mimetype": "text/x-python",
   "name": "python",
   "nbconvert_exporter": "python",
   "pygments_lexer": "ipython3",
   "version": "3.11.5"
  }
 },
 "nbformat": 4,
 "nbformat_minor": 5
}
